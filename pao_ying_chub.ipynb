{
  "nbformat": 4,
  "nbformat_minor": 0,
  "metadata": {
    "colab": {
      "provenance": [],
      "include_colab_link": true
    },
    "kernelspec": {
      "name": "python3",
      "display_name": "Python 3"
    },
    "language_info": {
      "name": "python"
    }
  },
  "cells": [
    {
      "cell_type": "markdown",
      "metadata": {
        "id": "view-in-github",
        "colab_type": "text"
      },
      "source": [
        "<a href=\"https://colab.research.google.com/github/kawakikarma/Data-Science-Bootcamp-10/blob/main/pao_ying_chub.ipynb\" target=\"_parent\"><img src=\"https://colab.research.google.com/assets/colab-badge.svg\" alt=\"Open In Colab\"/></a>"
      ]
    },
    {
      "cell_type": "code",
      "execution_count": 13,
      "metadata": {
        "id": "FlUmJGfNsZHG"
      },
      "outputs": [],
      "source": [
        "### Pao Ying Chub with Zhang\n",
        "\n",
        "from random import choice\n",
        "\n",
        "## game on\n",
        "def pao_ying_chub():\n",
        "\n",
        "    \"\"\"\n",
        "    This is Rock, Scissor, Paper game\n",
        "    \"\"\"\n",
        "    name = input(\"What's your name?: \")\n",
        "    print(f\"Hello! {name}, Welcome to the Rock Scissor Paper game!\")\n",
        "    count_win = 0\n",
        "    count_lose = 0\n",
        "    count_draw = 0\n",
        "\n",
        "    while True:\n",
        "\n",
        "        hands = [\"Rock\", \"Scissor\", \"Paper\"]\n",
        "        bot_hand = choice(hands)\n",
        "\n",
        "        print(\"Please choose your choice: 1: Rock, 2: Scissor, 3: Paper]\")\n",
        "        index_hand = int(input(\"Your choice: \"))\n",
        "\n",
        "        while index_hand not in {1, 2, 3}:\n",
        "          print('We expect you to enter a valid integer')\n",
        "          print(\"Please choose your choice: 1: Rock, 2: Scissor, 3: Paper]\")\n",
        "          index_hand = int(input(\"Your choice: \"))\n",
        "\n",
        "        user_hand = hands[index_hand-1]\n",
        "        print(f\"Bot: {bot_hand}\", f\"Your: {user_hand}\")\n",
        "\n",
        "        if bot_hand == user_hand:\n",
        "            print(\"It's draw!\")\n",
        "            count_draw += 1\n",
        "\n",
        "        elif (\n",
        "        (bot_hand == \"Rock\" and user_hand == \"Paper\") or\n",
        "        (bot_hand == \"Paper\" and user_hand == \"Scissor\") or\n",
        "        (bot_hand == \"Scissor\" and user_hand == \"Rock\")\n",
        "        ):\n",
        "            print(\"You win!\")\n",
        "            count_win += 1\n",
        "\n",
        "        else:\n",
        "            print(\"You Lose!\")\n",
        "            count_lose += 1\n",
        "\n",
        "\n",
        "\n",
        "        play_again = input(\"You want to play again? (y/n): \").lower()\n",
        "        if play_again == \"n\":\n",
        "            print(\"-- End Game --\")\n",
        "            print(f\"Win: {count_win}, Lose: {count_lose}, Draw: {count_draw}\")\n",
        "            break\n"
      ]
    },
    {
      "cell_type": "code",
      "source": [
        "pao_ying_chub()"
      ],
      "metadata": {
        "colab": {
          "base_uri": "https://localhost:8080/"
        },
        "id": "CpnPh31BxuCI",
        "outputId": "e0ddaf8d-af58-4ecf-b5df-ff4542500280"
      },
      "execution_count": 14,
      "outputs": [
        {
          "output_type": "stream",
          "name": "stdout",
          "text": [
            "What's your name?: 007\n",
            "Hello! 007, Welcome to the Rock Scissor Paper game!\n",
            "Please choose your choice: 1: Rock, 2: Scissor, 3: Paper]\n",
            "Your turn: 2\n",
            "Bot: Rock\n",
            " Your: Scissor\n",
            "You Lose!\n",
            "You want to play again? (y/n): y\n",
            "Please choose your choice: 1: Rock, 2: Scissor, 3: Paper]\n",
            "Your turn: 8\n",
            "We expect you to enter a valid integer\n",
            "Please choose your choice: 1: Rock, 2: Scissor, 3: Paper]\n",
            "Your turn: 1\n",
            "Bot: Paper\n",
            " Your: Rock\n",
            "You Lose!\n",
            "You want to play again? (y/n): 3\n",
            "Please choose your choice: 1: Rock, 2: Scissor, 3: Paper]\n",
            "Your turn: 3\n",
            "Bot: Paper\n",
            " Your: Paper\n",
            "It's draw!\n",
            "You want to play again? (y/n): 8\n",
            "Please choose your choice: 1: Rock, 2: Scissor, 3: Paper]\n",
            "Your turn: 1\n",
            "Bot: Paper\n",
            " Your: Rock\n",
            "You Lose!\n",
            "You want to play again? (y/n): 1\n",
            "Please choose your choice: 1: Rock, 2: Scissor, 3: Paper]\n",
            "Your turn: 1\n",
            "Bot: Scissor\n",
            " Your: Rock\n",
            "You win!\n",
            "You want to play again? (y/n): n\n",
            "-- End Game --\n",
            "Win: 1, Lose: 3, Draw: 1\n"
          ]
        }
      ]
    },
    {
      "cell_type": "code",
      "source": [],
      "metadata": {
        "id": "beBvEbAB6fVx"
      },
      "execution_count": null,
      "outputs": []
    }
  ]
}